{
  "metadata": {
    "kernelspec": {
      "name": "python",
      "display_name": "Python (Pyodide)",
      "language": "python"
    },
    "language_info": {
      "codemirror_mode": {
        "name": "python",
        "version": 3
      },
      "file_extension": ".py",
      "mimetype": "text/x-python",
      "name": "python",
      "nbconvert_exporter": "python",
      "pygments_lexer": "ipython3",
      "version": "3.8"
    }
  },
  "nbformat_minor": 5,
  "nbformat": 4,
  "cells": [
    {
      "id": "8e5177fb-daac-4578-9111-cdefa5b802b3",
      "cell_type": "markdown",
      "source": "# Data Science Tools and Ecosystem",
      "metadata": {}
    },
    {
      "id": "a8e2fbd3-0a40-461c-858e-9cbef8bbe17b",
      "cell_type": "markdown",
      "source": "In this notebook, Data Science Tools and Ecosystem are summarized.",
      "metadata": {}
    },
    {
      "id": "a3016afe-2164-405a-b0a8-9394dcdf8e10",
      "cell_type": "markdown",
      "source": "Some of the popular languages that Data Scientists use are:\n1. Python\n2. R\n3. SQL\n4. Java\n5. C++ etc",
      "metadata": {}
    },
    {
      "id": "c0e1f8ad-e11f-4399-857b-17fa8a59679a",
      "cell_type": "markdown",
      "source": "Some of the commonly used libraries used by Data Scientists include:\n1. TensorFlow\n2. Numpy\n3. Scipy\n4. Pandas\n5. Matplotlib\n6. SciKit-Learn\n7. PyTorch etc",
      "metadata": {}
    },
    {
      "id": "4cc6f9bb-88b5-45aa-a0c7-415425aae69d",
      "cell_type": "markdown",
      "source": "|Data Science Tools|\n|---|\n|SAS|\n|Apache Hadoop|\n|TensorFlow|",
      "metadata": {}
    },
    {
      "id": "62461abe-edd5-4508-b394-7487358809d6",
      "cell_type": "markdown",
      "source": "<h3>Below are a few examples of evaluating arithmetic expressions in Python<h3>",
      "metadata": {}
    },
    {
      "id": "1348fac2-0384-4ca6-8d60-4ed2449161ea",
      "cell_type": "code",
      "source": "#This a simple arithmetic expression to mutiply then add integers\n(3*4)+5",
      "metadata": {
        "trusted": true
      },
      "outputs": [
        {
          "execution_count": 2,
          "output_type": "execute_result",
          "data": {
            "text/plain": "17"
          },
          "metadata": {}
        }
      ],
      "execution_count": 2
    },
    {
      "id": "230ba414-7349-431f-9b70-ee3a1125916e",
      "cell_type": "code",
      "source": "#This will convert 200 minutes to hours by diving by 60\n200/60",
      "metadata": {
        "trusted": true
      },
      "outputs": [
        {
          "execution_count": 3,
          "output_type": "execute_result",
          "data": {
            "text/plain": "3.3333333333333335"
          },
          "metadata": {}
        }
      ],
      "execution_count": 3
    },
    {
      "id": "a5fd0c7c-7fb4-4ace-be8a-c8da67289dfa",
      "cell_type": "markdown",
      "source": "_Objectives:_\nList popular languages for Data Science\n* Python\n* R\n* SQL\n* Java\n* C++ etc",
      "metadata": {}
    },
    {
      "id": "acd5f5ed-880a-4f7c-8fc6-3b9c0a4cea3c",
      "cell_type": "markdown",
      "source": "## Author  \nWong Jin Shian",
      "metadata": {}
    }
  ]
}